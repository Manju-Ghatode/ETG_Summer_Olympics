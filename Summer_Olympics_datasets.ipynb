{
  "nbformat": 4,
  "nbformat_minor": 0,
  "metadata": {
    "colab": {
      "name": "Summer_Olympics_datasets.ipynb",
      "provenance": [],
      "collapsed_sections": []
    },
    "kernelspec": {
      "name": "python3",
      "display_name": "Python 3"
    },
    "language_info": {
      "name": "python"
    }
  },
  "cells": [
    {
      "cell_type": "markdown",
      "metadata": {
        "id": "RZOJVFC5O-dn"
      },
      "source": [
        "#**Summer Olympics Datasets Analysis Assignment**\n",
        "\n"
      ]
    },
    {
      "cell_type": "code",
      "metadata": {
        "colab": {
          "base_uri": "https://localhost:8080/",
          "height": 438
        },
        "id": "ds4OvjCjT27Y",
        "outputId": "2b1ca02b-bbc3-44e7-b029-468bbb30c6e1"
      },
      "source": [
        "import pandas as pd \n",
        "import matplotlib.pyplot as plt\n",
        " \n",
        "df = pd.read_csv(\"Summer Olympics.csv\") \n",
        "df\n"
      ],
      "execution_count": 34,
      "outputs": [
        {
          "output_type": "execute_result",
          "data": {
            "text/html": [
              "<div>\n",
              "<style scoped>\n",
              "    .dataframe tbody tr th:only-of-type {\n",
              "        vertical-align: middle;\n",
              "    }\n",
              "\n",
              "    .dataframe tbody tr th {\n",
              "        vertical-align: top;\n",
              "    }\n",
              "\n",
              "    .dataframe thead th {\n",
              "        text-align: right;\n",
              "    }\n",
              "</style>\n",
              "<table border=\"1\" class=\"dataframe\">\n",
              "  <thead>\n",
              "    <tr style=\"text-align: right;\">\n",
              "      <th></th>\n",
              "      <th>Year</th>\n",
              "      <th>City</th>\n",
              "      <th>Sport</th>\n",
              "      <th>Discipline</th>\n",
              "      <th>Athlete</th>\n",
              "      <th>Country</th>\n",
              "      <th>Gender</th>\n",
              "      <th>Event</th>\n",
              "      <th>Medal</th>\n",
              "    </tr>\n",
              "  </thead>\n",
              "  <tbody>\n",
              "    <tr>\n",
              "      <th>0</th>\n",
              "      <td>1896</td>\n",
              "      <td>Athens</td>\n",
              "      <td>Aquatics</td>\n",
              "      <td>Swimming</td>\n",
              "      <td>HAJOS, Alfred</td>\n",
              "      <td>HUN</td>\n",
              "      <td>Men</td>\n",
              "      <td>100M Freestyle</td>\n",
              "      <td>Gold</td>\n",
              "    </tr>\n",
              "    <tr>\n",
              "      <th>1</th>\n",
              "      <td>1896</td>\n",
              "      <td>Athens</td>\n",
              "      <td>Aquatics</td>\n",
              "      <td>Swimming</td>\n",
              "      <td>HERSCHMANN, Otto</td>\n",
              "      <td>AUT</td>\n",
              "      <td>Men</td>\n",
              "      <td>100M Freestyle</td>\n",
              "      <td>Silver</td>\n",
              "    </tr>\n",
              "    <tr>\n",
              "      <th>2</th>\n",
              "      <td>1896</td>\n",
              "      <td>Athens</td>\n",
              "      <td>Aquatics</td>\n",
              "      <td>Swimming</td>\n",
              "      <td>DRIVAS, Dimitrios</td>\n",
              "      <td>GRE</td>\n",
              "      <td>Men</td>\n",
              "      <td>100M Freestyle For Sailors</td>\n",
              "      <td>Bronze</td>\n",
              "    </tr>\n",
              "    <tr>\n",
              "      <th>3</th>\n",
              "      <td>1896</td>\n",
              "      <td>Athens</td>\n",
              "      <td>Aquatics</td>\n",
              "      <td>Swimming</td>\n",
              "      <td>MALOKINIS, Ioannis</td>\n",
              "      <td>GRE</td>\n",
              "      <td>Men</td>\n",
              "      <td>100M Freestyle For Sailors</td>\n",
              "      <td>Gold</td>\n",
              "    </tr>\n",
              "    <tr>\n",
              "      <th>4</th>\n",
              "      <td>1896</td>\n",
              "      <td>Athens</td>\n",
              "      <td>Aquatics</td>\n",
              "      <td>Swimming</td>\n",
              "      <td>CHASAPIS, Spiridon</td>\n",
              "      <td>GRE</td>\n",
              "      <td>Men</td>\n",
              "      <td>100M Freestyle For Sailors</td>\n",
              "      <td>Silver</td>\n",
              "    </tr>\n",
              "    <tr>\n",
              "      <th>...</th>\n",
              "      <td>...</td>\n",
              "      <td>...</td>\n",
              "      <td>...</td>\n",
              "      <td>...</td>\n",
              "      <td>...</td>\n",
              "      <td>...</td>\n",
              "      <td>...</td>\n",
              "      <td>...</td>\n",
              "      <td>...</td>\n",
              "    </tr>\n",
              "    <tr>\n",
              "      <th>31160</th>\n",
              "      <td>2012</td>\n",
              "      <td>London</td>\n",
              "      <td>Wrestling</td>\n",
              "      <td>Wrestling Freestyle</td>\n",
              "      <td>JANIKOWSKI, Damian</td>\n",
              "      <td>POL</td>\n",
              "      <td>Men</td>\n",
              "      <td>Wg 84 KG</td>\n",
              "      <td>Bronze</td>\n",
              "    </tr>\n",
              "    <tr>\n",
              "      <th>31161</th>\n",
              "      <td>2012</td>\n",
              "      <td>London</td>\n",
              "      <td>Wrestling</td>\n",
              "      <td>Wrestling Freestyle</td>\n",
              "      <td>REZAEI, Ghasem Gholamreza</td>\n",
              "      <td>IRI</td>\n",
              "      <td>Men</td>\n",
              "      <td>Wg 96 KG</td>\n",
              "      <td>Gold</td>\n",
              "    </tr>\n",
              "    <tr>\n",
              "      <th>31162</th>\n",
              "      <td>2012</td>\n",
              "      <td>London</td>\n",
              "      <td>Wrestling</td>\n",
              "      <td>Wrestling Freestyle</td>\n",
              "      <td>TOTROV, Rustam</td>\n",
              "      <td>RUS</td>\n",
              "      <td>Men</td>\n",
              "      <td>Wg 96 KG</td>\n",
              "      <td>Silver</td>\n",
              "    </tr>\n",
              "    <tr>\n",
              "      <th>31163</th>\n",
              "      <td>2012</td>\n",
              "      <td>London</td>\n",
              "      <td>Wrestling</td>\n",
              "      <td>Wrestling Freestyle</td>\n",
              "      <td>ALEKSANYAN, Artur</td>\n",
              "      <td>ARM</td>\n",
              "      <td>Men</td>\n",
              "      <td>Wg 96 KG</td>\n",
              "      <td>Bronze</td>\n",
              "    </tr>\n",
              "    <tr>\n",
              "      <th>31164</th>\n",
              "      <td>2012</td>\n",
              "      <td>London</td>\n",
              "      <td>Wrestling</td>\n",
              "      <td>Wrestling Freestyle</td>\n",
              "      <td>LIDBERG, Jimmy</td>\n",
              "      <td>SWE</td>\n",
              "      <td>Men</td>\n",
              "      <td>Wg 96 KG</td>\n",
              "      <td>Bronze</td>\n",
              "    </tr>\n",
              "  </tbody>\n",
              "</table>\n",
              "<p>31165 rows × 9 columns</p>\n",
              "</div>"
            ],
            "text/plain": [
              "       Year    City      Sport  ... Gender                       Event   Medal\n",
              "0      1896  Athens   Aquatics  ...    Men              100M Freestyle    Gold\n",
              "1      1896  Athens   Aquatics  ...    Men              100M Freestyle  Silver\n",
              "2      1896  Athens   Aquatics  ...    Men  100M Freestyle For Sailors  Bronze\n",
              "3      1896  Athens   Aquatics  ...    Men  100M Freestyle For Sailors    Gold\n",
              "4      1896  Athens   Aquatics  ...    Men  100M Freestyle For Sailors  Silver\n",
              "...     ...     ...        ...  ...    ...                         ...     ...\n",
              "31160  2012  London  Wrestling  ...    Men                    Wg 84 KG  Bronze\n",
              "31161  2012  London  Wrestling  ...    Men                    Wg 96 KG    Gold\n",
              "31162  2012  London  Wrestling  ...    Men                    Wg 96 KG  Silver\n",
              "31163  2012  London  Wrestling  ...    Men                    Wg 96 KG  Bronze\n",
              "31164  2012  London  Wrestling  ...    Men                    Wg 96 KG  Bronze\n",
              "\n",
              "[31165 rows x 9 columns]"
            ]
          },
          "metadata": {},
          "execution_count": 34
        }
      ]
    },
    {
      "cell_type": "code",
      "metadata": {
        "colab": {
          "base_uri": "https://localhost:8080/"
        },
        "id": "5ou7uTtPBpe9",
        "outputId": "d2f63cb7-1ebc-4f2c-fa24-902d223630fa"
      },
      "source": [
        "df['Country'].unique()"
      ],
      "execution_count": 35,
      "outputs": [
        {
          "output_type": "execute_result",
          "data": {
            "text/plain": [
              "array(['HUN', 'AUT', 'GRE', 'USA', 'GER', 'GBR', 'FRA', 'AUS', 'DEN',\n",
              "       'SUI', 'ZZX', 'NED', 'BEL', 'IND', 'CAN', 'BOH', 'SWE', 'NOR',\n",
              "       'ESP', 'ITA', 'CUB', 'ANZ', 'RSA', 'FIN', 'RU1', 'EST', 'TCH',\n",
              "       'NZL', 'BRA', 'JPN', 'LUX', 'ARG', 'POL', 'POR', 'URU', 'YUG',\n",
              "       'ROU', 'HAI', 'EGY', 'PHI', 'IRL', 'CHI', 'LAT', 'MEX', 'TUR',\n",
              "       'PAN', 'JAM', 'SRI', 'KOR', 'PUR', 'PER', 'IRI', 'TRI', 'URS',\n",
              "       'VEN', 'BUL', 'LIB', 'EUA', 'ISL', 'PAK', 'BAH', 'BWI', 'TPE',\n",
              "       'ETH', 'MAR', 'GHA', 'IRQ', 'SIN', 'TUN', 'KEN', 'NGR', 'GDR',\n",
              "       'FRG', 'UGA', 'CMR', 'MGL', 'PRK', 'COL', 'NIG', 'THA', 'BER',\n",
              "       'TAN', 'GUY', 'ZIM', 'CHN', 'CIV', 'ZAM', 'DOM', 'ALG', 'SYR',\n",
              "       'SUR', 'CRC', 'INA', 'SEN', 'DJI', 'AHO', 'ISV', 'EUN', 'NAM',\n",
              "       'QAT', 'LTU', 'MAS', 'CRO', 'ISR', 'SLO', 'IOP', 'RUS', 'UKR',\n",
              "       'ECU', 'BDI', 'MOZ', 'CZE', 'BLR', 'TGA', 'KAZ', 'UZB', 'SVK',\n",
              "       'MDA', 'GEO', 'HKG', 'ARM', 'AZE', 'BAR', 'KSA', 'KGZ', 'KUW',\n",
              "       'VIE', 'MKD', 'SCG', 'ERI', 'PAR', 'UAE', 'SRB', 'SUD', 'MRI',\n",
              "       'TOG', 'TJK', 'AFG', nan, 'BRN', 'GUA', 'GRN', 'TTO', 'BOT', 'MNE',\n",
              "       'CYP', 'SGP', 'GAB'], dtype=object)"
            ]
          },
          "metadata": {},
          "execution_count": 35
        }
      ]
    },
    {
      "cell_type": "code",
      "metadata": {
        "colab": {
          "base_uri": "https://localhost:8080/"
        },
        "id": "E8Xs8rHzB14Y",
        "outputId": "aea14729-a734-4d53-afcf-04b9fe747e8e"
      },
      "source": [
        "df[\"Athlete\"].unique()"
      ],
      "execution_count": 36,
      "outputs": [
        {
          "output_type": "execute_result",
          "data": {
            "text/plain": [
              "array(['HAJOS, Alfred', 'HERSCHMANN, Otto', 'DRIVAS, Dimitrios', ...,\n",
              "       'TOTROV, Rustam', 'ALEKSANYAN, Artur', 'LIDBERG, Jimmy'],\n",
              "      dtype=object)"
            ]
          },
          "metadata": {},
          "execution_count": 36
        }
      ]
    },
    {
      "cell_type": "code",
      "metadata": {
        "colab": {
          "base_uri": "https://localhost:8080/"
        },
        "id": "DTFW2ZadB-UK",
        "outputId": "cd256ea8-3ba4-407e-df01-4a6ff44ed17f"
      },
      "source": [
        "df.isnull().sum()"
      ],
      "execution_count": 37,
      "outputs": [
        {
          "output_type": "execute_result",
          "data": {
            "text/plain": [
              "Year          0\n",
              "City          0\n",
              "Sport         0\n",
              "Discipline    0\n",
              "Athlete       0\n",
              "Country       4\n",
              "Gender        0\n",
              "Event         0\n",
              "Medal         0\n",
              "dtype: int64"
            ]
          },
          "metadata": {},
          "execution_count": 37
        }
      ]
    },
    {
      "cell_type": "code",
      "metadata": {
        "colab": {
          "base_uri": "https://localhost:8080/"
        },
        "id": "vC_4-VzxCIjR",
        "outputId": "f7e8eef7-65fe-40fe-c87d-8578e5a08083"
      },
      "source": [
        "df[\"City\"] == \"Paris\""
      ],
      "execution_count": 38,
      "outputs": [
        {
          "output_type": "execute_result",
          "data": {
            "text/plain": [
              "0        False\n",
              "1        False\n",
              "2        False\n",
              "3        False\n",
              "4        False\n",
              "         ...  \n",
              "31160    False\n",
              "31161    False\n",
              "31162    False\n",
              "31163    False\n",
              "31164    False\n",
              "Name: City, Length: 31165, dtype: bool"
            ]
          },
          "metadata": {},
          "execution_count": 38
        }
      ]
    },
    {
      "cell_type": "code",
      "metadata": {
        "colab": {
          "base_uri": "https://localhost:8080/"
        },
        "id": "ZzS9nPUeCQJ7",
        "outputId": "357e5688-2c44-451a-ab41-4b06331806df"
      },
      "source": [
        "df[\"Year\"].unique()"
      ],
      "execution_count": 39,
      "outputs": [
        {
          "output_type": "execute_result",
          "data": {
            "text/plain": [
              "array([1896, 1900, 1904, 1908, 1912, 1920, 1924, 1928, 1932, 1936, 1948,\n",
              "       1952, 1956, 1960, 1964, 1968, 1972, 1976, 1980, 1984, 1988, 1992,\n",
              "       1996, 2000, 2004, 2008, 2012])"
            ]
          },
          "metadata": {},
          "execution_count": 39
        }
      ]
    },
    {
      "cell_type": "markdown",
      "metadata": {
        "id": "dIM_5whSCblB"
      },
      "source": [
        "##**1. In how many cities Summer Olympics is held so far?**"
      ]
    },
    {
      "cell_type": "code",
      "metadata": {
        "id": "2j_RpB6wPIcJ",
        "colab": {
          "base_uri": "https://localhost:8080/"
        },
        "outputId": "d6fb5bf2-a74e-41bc-c524-dc106149060d"
      },
      "source": [
        "                                                      \n",
        "no_of_city = len(df['City'].unique())                                         \n",
        "\n",
        "print('There are total', no_of_city,'city hosted the Summer Olympics.')"
      ],
      "execution_count": 40,
      "outputs": [
        {
          "output_type": "stream",
          "name": "stdout",
          "text": [
            "There are total 22 city hosted the Summer Olympics.\n"
          ]
        }
      ]
    },
    {
      "cell_type": "markdown",
      "metadata": {
        "id": "mDwp_-kLPmsb"
      },
      "source": [
        "##**2. Which sport is having most number of Gold Medals so far? (Top 5)**"
      ]
    },
    {
      "cell_type": "code",
      "metadata": {
        "id": "7eg8dpoSOM15",
        "colab": {
          "base_uri": "https://localhost:8080/",
          "height": 775
        },
        "outputId": "eed3d6ea-6f36-4278-a4b5-0039fae3391e"
      },
      "source": [
        "import pandas as pd                                                             \n",
        "df = pd.read_csv(\"Summer Olympics.csv\")              \n",
        "\n",
        "gold_data= df[df[\"Medal\"]==\"Gold\"]                                              #Creating new dataframe for gold medal only\n",
        "data=[]\n",
        "\n",
        "for sport in gold_data['Sport'].unique():                                       #Finding number of gold medal won in each sports \n",
        "  data.append([sport , len(gold_data[gold_data['Sport']  == sport])])\n",
        "gold = pd.DataFrame(data, columns=['Sport','Num_Gold_Medal'])                   #Creating new dataframe of sport name and number of gold medal won\n",
        "gold = gold.sort_values(by = 'Num_Gold_Medal', ascending = False).head()        #Sorting the dataframe and selecting only Top 5 Sports name\n",
        "\n",
        "print('Top 5 Sport having Highest number Gold Medal \\n')\n",
        "print(gold)                                                                     #Displaying the Top 5 Sport name and Number of goal medal won\n",
        "print('\\n')\n",
        "\n",
        "#Plotting Bar graph \n",
        "gold.plot(x = 'Sport', y = 'Num_Gold_Medal', kind = 'bar' ,ylabel = 'Number of Gold Medal', figsize = (8,8),color ='red', title = 'Most Gold Medal won in Sport')\n",
        "\n"
      ],
      "execution_count": 41,
      "outputs": [
        {
          "output_type": "stream",
          "name": "stdout",
          "text": [
            "Top 5 Sport having Highest number Gold Medal \n",
            "\n",
            "         Sport  Num_Gold_Medal\n",
            "0     Aquatics            1421\n",
            "1    Athletics            1215\n",
            "17      Rowing             890\n",
            "4   Gymnastics             820\n",
            "3      Fencing             552\n",
            "\n",
            "\n"
          ]
        },
        {
          "output_type": "execute_result",
          "data": {
            "text/plain": [
              "<matplotlib.axes._subplots.AxesSubplot at 0x7fd6870eb3d0>"
            ]
          },
          "metadata": {},
          "execution_count": 41
        },
        {
          "output_type": "display_data",
          "data": {
            "image/png": "[encoded data removed]",
            "text/plain": [
              "<Figure size 576x576 with 1 Axes>"
            ]
          },
          "metadata": {
            "needs_background": "light"
          }
        }
      ]
    },
    {
      "cell_type": "markdown",
      "metadata": {
        "id": "RbvdO4vqPxii"
      },
      "source": [
        "##**3. Which sport is having most number of medals so far? (Top 5)**"
      ]
    },
    {
      "cell_type": "code",
      "metadata": {
        "id": "NV6lHViUOM9T",
        "colab": {
          "base_uri": "https://localhost:8080/",
          "height": 775
        },
        "outputId": "4f679947-68ea-49c7-9e8d-383d5775acfd"
      },
      "source": [
        "import pandas as pd                                                             \n",
        "df = pd.read_csv(\"Summer Olympics.csv\")                                                  \n",
        "\n",
        "data = []\n",
        "for sport in df['Sport'].unique():                                              #Finding number of medal won in each sports\n",
        "  data.append([sport , len(df[df['Sport']  == sport])])\n",
        "medal = pd.DataFrame(data, columns=['Sport','Num_Medal'])                       #Creating new dataframe of sports name and number of medals won\n",
        "medal = medal.sort_values(by = 'Num_Medal', ascending = False).head()           #Sorting the dataframe and selecting only Top 5 Sports name\n",
        "\n",
        "print('Top 5 sports having most medal won \\n')\n",
        "print(medal)                                                                    #Displaying the Top 5 Sport name and Number of medal\n",
        "print('\\n')\n",
        "\n",
        "#Plotting Bar graph\n",
        "medal.plot(x = 'Sport' , y = 'Num_Medal', ylabel= 'Number of Medal', kind = 'bar', figsize = (8,8), color ='orange', title = 'Most Medal won in Sports (Top 5)')"
      ],
      "execution_count": 42,
      "outputs": [
        {
          "output_type": "stream",
          "name": "stdout",
          "text": [
            "Top 5 sports having most medal won \n",
            "\n",
            "         Sport  Num_Medal\n",
            "0     Aquatics       4170\n",
            "1    Athletics       3638\n",
            "17      Rowing       2667\n",
            "4   Gymnastics       2307\n",
            "3      Fencing       1613\n",
            "\n",
            "\n"
          ]
        },
        {
          "output_type": "execute_result",
          "data": {
            "text/plain": [
              "<matplotlib.axes._subplots.AxesSubplot at 0x7fd6872b3590>"
            ]
          },
          "metadata": {},
          "execution_count": 42
        },
        {
          "output_type": "display_data",
          "data": {
            "image/png": "[encoded data removed]",
            "text/plain": [
              "<Figure size 576x576 with 1 Axes>"
            ]
          },
          "metadata": {
            "needs_background": "light"
          }
        }
      ]
    },
    {
      "cell_type": "markdown",
      "metadata": {
        "id": "SNW1Y2tzP6Xc"
      },
      "source": [
        "##**4. Which player has won most number of medals? (Top 5)**"
      ]
    },
    {
      "cell_type": "code",
      "metadata": {
        "id": "8-U4PVYTOcLs",
        "colab": {
          "base_uri": "https://localhost:8080/",
          "height": 834
        },
        "outputId": "7f208de8-5c11-4cfd-88a5-20a6cff6ef30"
      },
      "source": [
        "import pandas as pd                                                             \n",
        "df = pd.read_csv(\"Summer Olympics.csv\")                                                  \n",
        "\n",
        "data = []\n",
        "\n",
        "for athlete in df['Athlete'].unique():                                          #Finding number of medal won in each sports\n",
        "  data.append([athlete , len(df[df['Athlete']  == athlete])])\n",
        "athlete = pd.DataFrame(data, columns=['Athlete','Num_Medal'])                   #Creating new dataframe of Athletes name and number of medals won\n",
        "athlete = athlete.sort_values(by = 'Num_Medal', ascending = False).head()       #Sorting the dataframe and selecting only Top 5 Athletes name\n",
        "\n",
        "print('Top 5 Athlete whose won most medals \\n')\n",
        "print(athlete)                                                                  #Displaying the Top 5 Athletes name and Number of medal\n",
        "print('\\n')\n",
        "\n",
        "#Plotting Bar graph\n",
        "athlete.plot(x = 'Athlete' , y = 'Num_Medal', ylabel= 'Number of Medal', kind = 'bar', figsize = (8,8), color ='green', \n",
        "             title = 'Most Medal won by Athlete (Top 5)')"
      ],
      "execution_count": 48,
      "outputs": [
        {
          "output_type": "stream",
          "name": "stdout",
          "text": [
            "Top 5 Athlete whose won most medals \n",
            "\n",
            "                    Athlete  Num_Medal\n",
            "18640       PHELPS, Michael         22\n",
            "7197       LATYNINA, Larisa         18\n",
            "9948     ANDRIANOV, Nikolay         15\n",
            "6591           ONO, Takashi         13\n",
            "5103   MANGIAROTTI, Edoardo         13\n",
            "\n",
            "\n"
          ]
        },
        {
          "output_type": "execute_result",
          "data": {
            "text/plain": [
              "<matplotlib.axes._subplots.AxesSubplot at 0x7fd686ced790>"
            ]
          },
          "metadata": {},
          "execution_count": 48
        },
        {
          "output_type": "display_data",
          "data": {
            "image/png": "[encoded data removed]",
            "text/plain": [
              "<Figure size 576x576 with 1 Axes>"
            ]
          },
          "metadata": {
            "needs_background": "light"
          }
        }
      ]
    },
    {
      "cell_type": "markdown",
      "metadata": {
        "id": "cg47vdNcQBMq"
      },
      "source": [
        "##**5. Which player has won most number Gold Medals of medals? (Top 5)**"
      ]
    },
    {
      "cell_type": "code",
      "metadata": {
        "id": "M_7_MSo2Odo-",
        "colab": {
          "base_uri": "https://localhost:8080/",
          "height": 693
        },
        "outputId": "07421e43-507b-4fbc-9240-500daa7952c2"
      },
      "source": [
        "import pandas as pd                                                             \n",
        "df = pd.read_csv(\"Summer Olympics.csv\")                                                 \n",
        "\n",
        "gold_data= df[df[\"Medal\"]==\"Gold\"]                                              #Creating new dataframe for gold medal only\n",
        "data=[]\n",
        "\n",
        "for athlete in gold_data['Athlete'].unique():                                   #Finding number of gold medal won in each sports\n",
        "  data.append([athlete , len(gold_data[gold_data['Athlete']  == athlete])])\n",
        "athlete = pd.DataFrame(data, columns=['Athlete','Num_Medal'])                   #Creating new dataframe of Athletes name and number of Gold medals won\n",
        "athlete = athlete.sort_values(by = 'Num_Medal', ascending = False).head()       #Sorting the dataframe and selecting only Top 5 Athletes name\n",
        "\n",
        "print('Top 5 Athlete whose won most Gold medals \\n')\n",
        "print(athlete)                                                                  #Displaying the Top 5 Athletes name and Number of Gold medal\n",
        "print('\\n')\n",
        "\n",
        "#Plotting Bar graph\n",
        "athlete.plot(x = 'Athlete' , y = 'Num_Medal', ylabel= 'Number of Gold Medal', kind = 'bar',color = 'pink', figsize = (6,6), \n",
        "             title = 'Most Gold Medal won by Athlete (Top 5)')"
      ],
      "execution_count": 49,
      "outputs": [
        {
          "output_type": "stream",
          "name": "stdout",
          "text": [
            "Top 5 Athlete whose won most Gold medals \n",
            "\n",
            "               Athlete  Num_Medal\n",
            "6851   PHELPS, Michael         18\n",
            "3320       SPITZ, Mark          9\n",
            "2714  LATYNINA, Larisa          9\n",
            "4630       LEWIS, Carl          9\n",
            "907       NURMI, Paavo          9\n",
            "\n",
            "\n"
          ]
        },
        {
          "output_type": "execute_result",
          "data": {
            "text/plain": [
              "<matplotlib.axes._subplots.AxesSubplot at 0x7fd68719af10>"
            ]
          },
          "metadata": {},
          "execution_count": 49
        },
        {
          "output_type": "display_data",
          "data": {
            "image/png": "[encoded data removed]",
            "text/plain": [
              "<Figure size 432x432 with 1 Axes>"
            ]
          },
          "metadata": {
            "needs_background": "light"
          }
        }
      ]
    },
    {
      "cell_type": "markdown",
      "metadata": {
        "id": "Mm92qyhwQHuf"
      },
      "source": [
        "##**6. In which year India won first Gold Medal in Summer Olympics?**"
      ]
    },
    {
      "cell_type": "code",
      "metadata": {
        "id": "zVqHj0ZaOiAI",
        "colab": {
          "base_uri": "https://localhost:8080/"
        },
        "outputId": "ccdf6c58-af45-4d84-db56-378788e70b6d"
      },
      "source": [
        "import pandas as pd\n",
        "df = pd.read_csv(\"Summer Olympics.csv\")                                                  \n",
        "                                                              \n",
        "gold_data= df[df[\"Medal\"]==\"Gold\"]                                              #Creating new dataframe for gold medal only\n",
        "india_gold = gold_data[gold_data['Country'] == 'IND'].head(1)                   #Creating new dataframe where gold medal won by india only \n",
        "                                                                                \n",
        "yr = int(india_gold['Year'])                                                    #Finding year of first gold medal won by India\n",
        "print('India Won its First Summer Olympic Medal in',yr)"
      ],
      "execution_count": 50,
      "outputs": [
        {
          "output_type": "stream",
          "name": "stdout",
          "text": [
            "India Won its First Summer Olympic Medal in 1928\n"
          ]
        }
      ]
    },
    {
      "cell_type": "markdown",
      "metadata": {
        "id": "2n4TnbAvQOKp"
      },
      "source": [
        "##**7. Which event is most popular in terms on number of players? (Top 5)**"
      ]
    },
    {
      "cell_type": "code",
      "metadata": {
        "id": "RpH65BQqOnog",
        "colab": {
          "base_uri": "https://localhost:8080/",
          "height": 953
        },
        "outputId": "0345aa50-d64e-466b-fa03-cfd8b2d271f1"
      },
      "source": [
        "import pandas as pd                                                             \n",
        "df = pd.read_csv('Summer Olympics.csv')                                                  \n",
        "                                                              \n",
        "data=[]\n",
        "for event in df['Event'].unique():                                              \n",
        "  event_df = df[df['Event']==event]                                             \n",
        "  players = len(event_df['Athlete'].unique())                                   #creating new dataframe for event\n",
        "  data.append([event , players])\n",
        "player = pd.DataFrame(data,columns=['Event','Num_players'])                     \n",
        "player=player.sort_values(by= 'Num_players', ascending= False).head()           #finding top 5 sports event whose most unique players\n",
        "print('Top 5 Sport Events whose having most unique players \\n')\n",
        "print(player)                                                                   \n",
        "print('\\n')\n",
        "\n",
        "#plotting Bar graph\n",
        "player.plot(x = 'Event' , y = 'Num_players', ylabel= 'Number of players', kind = 'bar', figsize = (10,10), color ='purple', \n",
        "            title = 'Number of Unique players in any sport events (Top 5)')"
      ],
      "execution_count": 51,
      "outputs": [
        {
          "output_type": "stream",
          "name": "stdout",
          "text": [
            "Top 5 Sport Events whose having most unique players \n",
            "\n",
            "                        Event  Num_players\n",
            "80                   Football         1357\n",
            "176                    Hockey         1154\n",
            "138          Team Competition          975\n",
            "83   Eight With Coxswain (8+)          828\n",
            "327                Basketball          814\n",
            "\n",
            "\n"
          ]
        },
        {
          "output_type": "execute_result",
          "data": {
            "text/plain": [
              "<matplotlib.axes._subplots.AxesSubplot at 0x7fd686cd7210>"
            ]
          },
          "metadata": {},
          "execution_count": 51
        },
        {
          "output_type": "display_data",
          "data": {
            "image/png": "[encoded data removed]",
            "text/plain": [
              "<Figure size 720x720 with 1 Axes>"
            ]
          },
          "metadata": {
            "needs_background": "light"
          }
        }
      ]
    },
    {
      "cell_type": "markdown",
      "metadata": {
        "id": "Lk9DjXaaQVix"
      },
      "source": [
        "##**8. Which sport is having most female Gold Medalists? (Top 5)**"
      ]
    },
    {
      "cell_type": "code",
      "metadata": {
        "id": "a8VJUcr7O31J",
        "colab": {
          "base_uri": "https://localhost:8080/",
          "height": 884
        },
        "outputId": "f3036df3-00be-4fb6-b694-f91d2515176b"
      },
      "source": [
        "import pandas as pd                                                             \n",
        "df = pd.read_csv('Summer Olympics.csv')                                                  \n",
        "                                                               \n",
        "female_data= df[df['Gender'] == \"Women\"]                                        #creating new dataframe for woman only\n",
        "gold_data= female_data[female_data[\"Medal\"]==\"Gold\"]                            #creating new dataframe for woman gold medal only\n",
        "data=[]\n",
        "\n",
        "for sport in gold_data['Sport'].unique():                                        \n",
        "  data.append([sport , len(gold_data[gold_data['Sport']  == sport])])           \n",
        "medal = pd.DataFrame(data, columns=['Sport','Num_Medal'])                       \n",
        "medal = medal.sort_values(by = 'Num_Medal', ascending = False).head()           \n",
        "print('Top 5 sports having most medal won by Female \\n')                        #finding top 5 players having most medal won by Female\n",
        "print(medal)                                                                    \n",
        "print('\\n')\n",
        "\n",
        "#plotting Bar graph\n",
        "medal.plot(x = 'Sport' , y = 'Num_Medal', ylabel= 'Number of Medal', kind = 'bar', figsize = (10,10), color = 'Yellow', title = 'Most Medal won in Sports by Female (Top 5)')"
      ],
      "execution_count": 52,
      "outputs": [
        {
          "output_type": "stream",
          "name": "stdout",
          "text": [
            "Top 5 sports having most medal won by Female \n",
            "\n",
            "         Sport  Num_Medal\n",
            "4     Aquatics        589\n",
            "7    Athletics        389\n",
            "8   Gymnastics        268\n",
            "14      Rowing        217\n",
            "11  Volleyball        166\n",
            "\n",
            "\n"
          ]
        },
        {
          "output_type": "execute_result",
          "data": {
            "text/plain": [
              "<matplotlib.axes._subplots.AxesSubplot at 0x7fd686dfddd0>"
            ]
          },
          "metadata": {},
          "execution_count": 52
        },
        {
          "output_type": "display_data",
          "data": {
            "image/png": "[encoded data removed]",
            "text/plain": [
              "<Figure size 720x720 with 1 Axes>"
            ]
          },
          "metadata": {
            "needs_background": "light"
          }
        }
      ]
    }
  ]
}